{
 "cells": [
  {
   "cell_type": "code",
   "execution_count": 1,
   "id": "d6c13b79-a6d9-423e-801f-551119f4cd9f",
   "metadata": {},
   "outputs": [],
   "source": [
    "import numpy as np\n",
    "import pandas as pd"
   ]
  },
  {
   "cell_type": "code",
   "execution_count": 2,
   "id": "cb2676c0-91a0-485d-92a6-ff28eebef689",
   "metadata": {},
   "outputs": [],
   "source": [
    "data = 'https://www.phoenixopendata.com/dataset/0f162a96-3aca-4510-b9e4-d3bfc6dfd649/resource/ae149b6f-4d7e-499d-89d5-44c30e726d37/download/1-jul-2021-opendata.csv'\n",
    "df = pd.read_csv(data)"
   ]
  },
  {
   "cell_type": "code",
   "execution_count": 3,
   "id": "495b33e4-47e9-4d52-add8-bb1c5f352d47",
   "metadata": {},
   "outputs": [
    {
     "data": {
      "text/html": [
       "<div>\n",
       "<style scoped>\n",
       "    .dataframe tbody tr th:only-of-type {\n",
       "        vertical-align: middle;\n",
       "    }\n",
       "\n",
       "    .dataframe tbody tr th {\n",
       "        vertical-align: top;\n",
       "    }\n",
       "\n",
       "    .dataframe thead th {\n",
       "        text-align: right;\n",
       "    }\n",
       "</style>\n",
       "<table border=\"1\" class=\"dataframe\">\n",
       "  <thead>\n",
       "    <tr style=\"text-align: right;\">\n",
       "      <th></th>\n",
       "      <th>Check/Payment Date</th>\n",
       "      <th>Dept. Descrptn</th>\n",
       "      <th>Vendor Name</th>\n",
       "      <th>Commitmt Item Name</th>\n",
       "      <th>Invoice Net Amt</th>\n",
       "    </tr>\n",
       "  </thead>\n",
       "  <tbody>\n",
       "    <tr>\n",
       "      <th>0</th>\n",
       "      <td>7/14/2021</td>\n",
       "      <td>Police</td>\n",
       "      <td>21ST CENTURY POLICING LLC</td>\n",
       "      <td>Cons/Other Prof Svcs</td>\n",
       "      <td>254.99</td>\n",
       "    </tr>\n",
       "    <tr>\n",
       "      <th>1</th>\n",
       "      <td>7/14/2021</td>\n",
       "      <td>Police</td>\n",
       "      <td>21ST CENTURY POLICING LLC</td>\n",
       "      <td>Cons/Other Prof Svcs</td>\n",
       "      <td>27,678.75</td>\n",
       "    </tr>\n",
       "    <tr>\n",
       "      <th>2</th>\n",
       "      <td>7/14/2021</td>\n",
       "      <td>Police</td>\n",
       "      <td>21ST CENTURY POLICING LLC</td>\n",
       "      <td>Cons/Other Prof Svcs</td>\n",
       "      <td>11,041.25</td>\n",
       "    </tr>\n",
       "    <tr>\n",
       "      <th>3</th>\n",
       "      <td>7/27/2021</td>\n",
       "      <td>Aviation</td>\n",
       "      <td>22ND CENTURY TECHNOLOGIES INC</td>\n",
       "      <td>Tech Supp Maint/Rep</td>\n",
       "      <td>7,548.00</td>\n",
       "    </tr>\n",
       "    <tr>\n",
       "      <th>4</th>\n",
       "      <td>7/27/2021</td>\n",
       "      <td>Aviation</td>\n",
       "      <td>22ND CENTURY TECHNOLOGIES INC</td>\n",
       "      <td>Tech Supp Maint/Rep</td>\n",
       "      <td>13,798.56</td>\n",
       "    </tr>\n",
       "  </tbody>\n",
       "</table>\n",
       "</div>"
      ],
      "text/plain": [
       "  Check/Payment Date Dept. Descrptn                    Vendor Name  \\\n",
       "0          7/14/2021         Police      21ST CENTURY POLICING LLC   \n",
       "1          7/14/2021         Police      21ST CENTURY POLICING LLC   \n",
       "2          7/14/2021         Police      21ST CENTURY POLICING LLC   \n",
       "3          7/27/2021       Aviation  22ND CENTURY TECHNOLOGIES INC   \n",
       "4          7/27/2021       Aviation  22ND CENTURY TECHNOLOGIES INC   \n",
       "\n",
       "     Commitmt Item Name Invoice Net Amt  \n",
       "0  Cons/Other Prof Svcs          254.99  \n",
       "1  Cons/Other Prof Svcs       27,678.75  \n",
       "2  Cons/Other Prof Svcs       11,041.25  \n",
       "3   Tech Supp Maint/Rep        7,548.00  \n",
       "4   Tech Supp Maint/Rep       13,798.56  "
      ]
     },
     "execution_count": 3,
     "metadata": {},
     "output_type": "execute_result"
    }
   ],
   "source": [
    "df.head()"
   ]
  },
  {
   "cell_type": "code",
   "execution_count": 24,
   "id": "872d4691-8fcf-4a00-8f7f-7346ec4d10ae",
   "metadata": {},
   "outputs": [
    {
     "name": "stdout",
     "output_type": "stream",
     "text": [
      "{'help': 'https://www.phoenixopendata.com/api/3/action/help_show?name=datastore_search', 'success': True, 'result': {'include_total': True, 'resource_id': 'ae149b6f-4d7e-499d-89d5-44c30e726d37', 'fields': [{'type': 'int', 'id': '_id'}, {'info': {'notes': 'The date the invoice was paid in SAP.', 'type_override': '', 'label': 'Payment Date'}, 'type': 'text', 'id': 'Check/Payment Date'}, {'info': {'notes': 'The name of department that is associated with the invoice paid based on account assignment in the invoice.', 'type_override': '', 'label': 'Department'}, 'type': 'text', 'id': 'Dept. Descrptn'}, {'info': {'notes': 'Name of the vendor on the invoice.', 'type_override': '', 'label': 'Vendor Name'}, 'type': 'text', 'id': 'Vendor Name'}, {'info': {'notes': 'General Ledger account that was used to pay the invoice.', 'type_override': '', 'label': 'GL Description'}, 'type': 'text', 'id': 'Commitmt Item Name'}, {'info': {'notes': 'Total invoice amount.', 'type_override': '', 'label': 'Amount'}, 'type': 'text', 'id': 'Invoice Net Amt'}, {'type': 'float', 'id': 'rank'}], 'records_format': 'objects', 'q': 'title:jones', 'records': [], 'limit': 5, '_links': {'start': '/api/3/action/datastore_search?q=title%3Ajones&limit=5&resource_id=ae149b6f-4d7e-499d-89d5-44c30e726d37', 'next': '/api/3/action/datastore_search?q=title%3Ajones&offset=5&limit=5&resource_id=ae149b6f-4d7e-499d-89d5-44c30e726d37'}, 'total': 0}}\n"
     ]
    }
   ],
   "source": [
    "import json\n",
    "import urllib.request\n",
    "url = 'https://www.phoenixopendata.com/api/3/action/datastore_search?resource_id=ae149b6f-4d7e-499d-89d5-44c30e726d37&limit=5&q=title:jones'  \n",
    "fileobj = urllib.request.urlopen(url)\n",
    "response_dict = json.loads(fileobj.read())\n",
    "print(response_dict)"
   ]
  },
  {
   "cell_type": "code",
   "execution_count": 41,
   "id": "a3c65911-0555-420c-83a6-4c31228c05f0",
   "metadata": {},
   "outputs": [],
   "source": [
    "import xml.etree.ElementTree as ET\n",
    "import requests\n",
    "import pprint\n",
    "\n",
    "url = 'https://www.phoenixopendata.com/datastore/odata3.0/ae149b6f-4d7e-499d-89d5-44c30e726d37'\n",
    "\n",
    "r = requests.get(url)\n",
    "tree = ET.fromstring(r.content)\n",
    "# root = tree.getroot()\n",
    "# response_dict = fileobj.json()\n",
    "# print(response_dict)"
   ]
  },
  {
   "cell_type": "code",
   "execution_count": 43,
   "id": "2d384abe-1f44-44b6-b4e8-6aee78533a20",
   "metadata": {},
   "outputs": [
    {
     "ename": "AttributeError",
     "evalue": "'xml.etree.ElementTree.Element' object has no attribute 'getroot'",
     "output_type": "error",
     "traceback": [
      "\u001b[0;31m---------------------------------------------------------------------------\u001b[0m",
      "\u001b[0;31mAttributeError\u001b[0m                            Traceback (most recent call last)",
      "\u001b[0;32m<ipython-input-43-c2f622ec4490>\u001b[0m in \u001b[0;36m<module>\u001b[0;34m\u001b[0m\n\u001b[0;32m----> 1\u001b[0;31m \u001b[0mtree\u001b[0m\u001b[0;34m.\u001b[0m\u001b[0mgetroot\u001b[0m\u001b[0;34m(\u001b[0m\u001b[0;34m)\u001b[0m\u001b[0;34m\u001b[0m\u001b[0;34m\u001b[0m\u001b[0m\n\u001b[0m",
      "\u001b[0;31mAttributeError\u001b[0m: 'xml.etree.ElementTree.Element' object has no attribute 'getroot'"
     ]
    }
   ],
   "source": [
    "for i in tree:\n",
    "    print(k)"
   ]
  },
  {
   "cell_type": "code",
   "execution_count": null,
   "id": "41e05502-667a-4d57-a497-966dfbce23bf",
   "metadata": {},
   "outputs": [],
   "source": []
  },
  {
   "cell_type": "code",
   "execution_count": null,
   "id": "648a9e25-e12b-4974-88c8-0b47af5ae947",
   "metadata": {},
   "outputs": [],
   "source": []
  },
  {
   "cell_type": "code",
   "execution_count": 5,
   "id": "8e037438-db75-4837-98d5-1c48426226dd",
   "metadata": {},
   "outputs": [
    {
     "ename": "AttributeError",
     "evalue": "module 'urllib' has no attribute 'quote'",
     "output_type": "error",
     "traceback": [
      "\u001b[0;31m---------------------------------------------------------------------------\u001b[0m",
      "\u001b[0;31mAttributeError\u001b[0m                            Traceback (most recent call last)",
      "\u001b[0;32m<ipython-input-5-4abc14310111>\u001b[0m in \u001b[0;36m<module>\u001b[0;34m\u001b[0m\n\u001b[1;32m     12\u001b[0m \u001b[0;34m\u001b[0m\u001b[0m\n\u001b[1;32m     13\u001b[0m \u001b[0;31m# Use the json module to dump the dictionary to a string for posting.\u001b[0m\u001b[0;34m\u001b[0m\u001b[0;34m\u001b[0m\u001b[0;34m\u001b[0m\u001b[0m\n\u001b[0;32m---> 14\u001b[0;31m \u001b[0mdata_string\u001b[0m \u001b[0;34m=\u001b[0m \u001b[0murllib\u001b[0m\u001b[0;34m.\u001b[0m\u001b[0mquote\u001b[0m\u001b[0;34m(\u001b[0m\u001b[0mjson\u001b[0m\u001b[0;34m.\u001b[0m\u001b[0mdumps\u001b[0m\u001b[0;34m(\u001b[0m\u001b[0mdataset_dict\u001b[0m\u001b[0;34m)\u001b[0m\u001b[0;34m)\u001b[0m\u001b[0;34m\u001b[0m\u001b[0;34m\u001b[0m\u001b[0m\n\u001b[0m\u001b[1;32m     15\u001b[0m \u001b[0;34m\u001b[0m\u001b[0m\n\u001b[1;32m     16\u001b[0m \u001b[0;31m# We'll use the package_create function to create a new dataset.\u001b[0m\u001b[0;34m\u001b[0m\u001b[0;34m\u001b[0m\u001b[0;34m\u001b[0m\u001b[0m\n",
      "\u001b[0;31mAttributeError\u001b[0m: module 'urllib' has no attribute 'quote'"
     ]
    }
   ],
   "source": [
    "#!/usr/bin/env python\n",
    "#import urllib2\n",
    "import requests\n",
    "import json\n",
    "import pprint\n",
    "\n",
    "# Put the details of the dataset we're going to create into a dict.\n",
    "dataset_dict = {\n",
    "    'name': 'my_dataset_name',\n",
    "    'notes': 'A long description of my dataset',\n",
    "}\n",
    "\n",
    "# Use the json module to dump the dictionary to a string for posting.\n",
    "data_string = urllib.quote(json.dumps(dataset_dict))\n",
    "\n",
    "# We'll use the package_create function to create a new dataset.\n",
    "request = urllib2.Request(\n",
    "    'http://www.my_ckan_site.com/api/action/package_create')\n",
    "\n",
    "# Creating a dataset requires an authorization header.\n",
    "# Replace *** with your API key, from your user account on the CKAN site\n",
    "# that you're creating the dataset on.\n",
    "request.add_header('Authorization', '***')\n",
    "\n",
    "# Make the HTTP request.\n",
    "response = urllib2.urlopen(request, data_string)\n",
    "assert response.code == 200\n",
    "\n",
    "# Use the json module to load CKAN's response into a dictionary.\n",
    "response_dict = json.loads(response.read())\n",
    "assert response_dict['success'] is True\n",
    "\n",
    "# package_create returns the created package as its result.\n",
    "created_package = response_dict['result']\n",
    "pprint.pprint(created_package)"
   ]
  },
  {
   "cell_type": "code",
   "execution_count": null,
   "id": "97b49fc7-d975-4408-b6fe-772f6f2e94b2",
   "metadata": {},
   "outputs": [],
   "source": []
  },
  {
   "cell_type": "code",
   "execution_count": null,
   "id": "d52ea76f-ff49-49c4-8651-0e51e5f7b721",
   "metadata": {},
   "outputs": [],
   "source": []
  },
  {
   "cell_type": "code",
   "execution_count": null,
   "id": "a6aa7a9f-9915-4a7d-95ec-fa6c1899c34d",
   "metadata": {},
   "outputs": [],
   "source": []
  }
 ],
 "metadata": {
  "kernelspec": {
   "display_name": "Python 3",
   "language": "python",
   "name": "python3"
  },
  "language_info": {
   "codemirror_mode": {
    "name": "ipython",
    "version": 3
   },
   "file_extension": ".py",
   "mimetype": "text/x-python",
   "name": "python",
   "nbconvert_exporter": "python",
   "pygments_lexer": "ipython3",
   "version": "3.7.9"
  }
 },
 "nbformat": 4,
 "nbformat_minor": 5
}
